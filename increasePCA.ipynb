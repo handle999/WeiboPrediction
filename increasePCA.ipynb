{
 "cells": [
  {
   "cell_type": "code",
   "execution_count": 1,
   "id": "6e55ea04-5ae8-4825-89bd-efc03066ebed",
   "metadata": {},
   "outputs": [],
   "source": [
    "import pandas as pd\n",
    "import numpy as np\n",
    "from sklearn.decomposition import IncrementalPCA\n",
    "from tqdm import tqdm\n"
   ]
  },
  {
   "cell_type": "code",
   "execution_count": 4,
   "id": "3992a182-9856-4e44-bf85-804c7c510076",
   "metadata": {},
   "outputs": [],
   "source": [
    "# 文件列表（输入输出对应）\n",
    "input_files = [\n",
    "    ('weibo_qwen3_features_train.csv', 'weibo_qwen3_features_train_32.csv'),\n",
    "    ('weibo_qwen3_features_predict.csv', 'weibo_qwen3_features_predict_32.csv')\n",
    "]\n"
   ]
  },
  {
   "cell_type": "code",
   "execution_count": 5,
   "id": "4ec132af-693c-4675-bfdf-a586eb92bcc5",
   "metadata": {},
   "outputs": [],
   "source": [
    "# PCA参数\n",
    "n_components = 32\n",
    "chunksize = 100000\n",
    "ipca = IncrementalPCA(n_components=n_components)\n"
   ]
  },
  {
   "cell_type": "code",
   "execution_count": 6,
   "id": "7e58ed2e-0f08-45d8-b3d1-78841a64b825",
   "metadata": {},
   "outputs": [
    {
     "name": "stdout",
     "output_type": "stream",
     "text": [
      "📌 第一步：拟合 IncrementalPCA（考虑两个输入文件）\n"
     ]
    },
    {
     "name": "stderr",
     "output_type": "stream",
     "text": [
      "Fitting weibo_qwen3_features_train.csv: 13it [08:28, 39.10s/it]\n",
      "Fitting weibo_qwen3_features_predict.csv: 2it [01:13, 36.63s/it]\n"
     ]
    },
    {
     "name": "stdout",
     "output_type": "stream",
     "text": [
      "📌 第二步：对每个文件进行降维并保存\n"
     ]
    },
    {
     "name": "stderr",
     "output_type": "stream",
     "text": [
      "Transforming weibo_qwen3_features_train.csv: 13it [07:34, 34.94s/it]\n"
     ]
    },
    {
     "name": "stdout",
     "output_type": "stream",
     "text": [
      "✅ 已完成降维并保存：weibo_qwen3_features_train_32.csv\n"
     ]
    },
    {
     "name": "stderr",
     "output_type": "stream",
     "text": [
      "Transforming weibo_qwen3_features_predict.csv: 2it [01:05, 32.58s/it]"
     ]
    },
    {
     "name": "stdout",
     "output_type": "stream",
     "text": [
      "✅ 已完成降维并保存：weibo_qwen3_features_predict_32.csv\n"
     ]
    },
    {
     "name": "stderr",
     "output_type": "stream",
     "text": [
      "\n"
     ]
    }
   ],
   "source": [
    "# 第一步：联合 partial_fit\n",
    "print(\"📌 第一步：拟合 IncrementalPCA（考虑两个输入文件）\")\n",
    "for input_file, _ in input_files:\n",
    "    reader = pd.read_csv(input_file, chunksize=chunksize)\n",
    "    for chunk in tqdm(reader, desc=f\"Fitting {input_file}\"):\n",
    "        features = chunk['content_feature'].str.strip().str.split(' ').apply(lambda x: list(map(float, x)))\n",
    "        X = np.stack(features.values)\n",
    "        ipca.partial_fit(X)\n",
    "\n",
    "# 第二步：分别 transform 并写入各自输出文件\n",
    "print(\"📌 第二步：对每个文件进行降维并保存\")\n",
    "for input_file, output_file in input_files:\n",
    "    reader = pd.read_csv(input_file, chunksize=chunksize)\n",
    "    first_chunk = True\n",
    "    for chunk in tqdm(reader, desc=f\"Transforming {input_file}\"):\n",
    "        uid = chunk['uid']\n",
    "        mid = chunk['mid']\n",
    "        features = chunk['content_feature'].str.strip().str.split(' ').apply(lambda x: list(map(float, x)))\n",
    "        X = np.stack(features.values)\n",
    "        X_reduced = ipca.transform(X)\n",
    "        reduced_str = [' '.join(f'{num:.6f}' for num in row) for row in X_reduced]\n",
    "\n",
    "        df_out = pd.DataFrame({\n",
    "            'uid': uid,\n",
    "            'mid': mid,\n",
    "            'content_feature': reduced_str\n",
    "        })\n",
    "\n",
    "        df_out.to_csv(output_file, mode='w' if first_chunk else 'a', index=False, header=first_chunk)\n",
    "        first_chunk = False\n",
    "\n",
    "    print(f\"✅ 已完成降维并保存：{output_file}\")\n"
   ]
  },
  {
   "cell_type": "code",
   "execution_count": null,
   "id": "3993dacd-16bb-432a-97e7-0632d87f5e64",
   "metadata": {},
   "outputs": [],
   "source": []
  }
 ],
 "metadata": {
  "kernelspec": {
   "display_name": "SAM",
   "language": "python",
   "name": "python3"
  },
  "language_info": {
   "codemirror_mode": {
    "name": "ipython",
    "version": 3
   },
   "file_extension": ".py",
   "mimetype": "text/x-python",
   "name": "python",
   "nbconvert_exporter": "python",
   "pygments_lexer": "ipython3",
   "version": "3.9.19"
  }
 },
 "nbformat": 4,
 "nbformat_minor": 5
}
