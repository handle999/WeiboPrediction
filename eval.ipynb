{
 "cells": [
  {
   "cell_type": "code",
   "execution_count": 1,
   "id": "cfdacc07",
   "metadata": {},
   "outputs": [],
   "source": [
    "import numpy as np\n",
    "import pandas as pd\n"
   ]
  },
  {
   "cell_type": "code",
   "execution_count": 2,
   "id": "9de69612",
   "metadata": {},
   "outputs": [],
   "source": [
    "def compute_deviation(pred, actual, offset):\n",
    "    # 通用偏差公式：deviation = |pred - actual| / (actual + offset)\n",
    "    return np.abs(pred - actual) / (actual + offset)\n"
   ]
  },
  {
   "cell_type": "code",
   "execution_count": 3,
   "id": "7fe04d5c",
   "metadata": {},
   "outputs": [],
   "source": [
    "def compute_precision_row(row):\n",
    "    # 计算单条指标\n",
    "    # Deviation_forward = |Forward_pred - Forward_actual| / (Forward_actual + 5)\n",
    "    deviation_forward = compute_deviation(row['pred_forward_count'], row['forward_count'], 5)\n",
    "\n",
    "    # Deviation_comment = |Comment_pred - Comment_actual| / (Comment_actual + 3)\n",
    "    deviation_comment = compute_deviation(row['pred_comment_count'], row['comment_count'], 3)\n",
    "\n",
    "    # Deviation_like = |Like_pred - Like_actual| / (Like_actual + 3)\n",
    "    deviation_like = compute_deviation(row['pred_like_count'], row['like_count'], 3)\n",
    "    \n",
    "    # Precision_i = 1 - 0.5 × Deviation_forward - 0.25 × Deviation_comment - 0.25 × Deviation_like\n",
    "    precision = 1 - 0.5 * deviation_forward - 0.25 * deviation_comment - 0.25 * deviation_like\n",
    "    \n",
    "    return precision, deviation_forward, deviation_comment, deviation_like\n"
   ]
  },
  {
   "cell_type": "code",
   "execution_count": 4,
   "id": "ca7184e4",
   "metadata": {},
   "outputs": [],
   "source": [
    "def evaluate_model(df):\n",
    "    # 计算每条微博的精度和偏差\n",
    "    df[['precision', 'dev_forward', 'dev_comment', 'dev_like']] = df.apply(\n",
    "        compute_precision_row, axis=1, result_type='expand'\n",
    "    )\n",
    "\n",
    "    # interaction_i = forward + comment + like，且上限为 100\n",
    "    interaction = df['forward_count'] + df['comment_count'] + df['like_count']\n",
    "    interaction_capped = interaction.clip(upper=100)\n",
    "    weight = interaction_capped + 1\n",
    "\n",
    "    # sgn(precision_i - 0.8)，大于0为1，否则为0\n",
    "    sign_term = (df['precision'] - 0.8 > 0).astype(int)\n",
    "\n",
    "    # precision = ∑(weight × sign_term) / ∑(weight)\n",
    "    weighted_score = np.sum(weight * sign_term) / np.sum(weight)\n",
    "\n",
    "    return {\n",
    "        'weighted_precision_score': weighted_score,\n",
    "        'mean_precision': df['precision'].mean(),\n",
    "        'df_with_metrics': df\n",
    "    }\n"
   ]
  },
  {
   "cell_type": "code",
   "execution_count": 5,
   "id": "db987a8c",
   "metadata": {},
   "outputs": [
    {
     "data": {
      "text/plain": [
       "\"\\ninput: df(uid, mid, forward_count, comment_count, like_count, pred_forward_count, pred_comment_count, pred_like_count)\\noutput: {'weighted_precision_score': float,\\n        'mean_precision': float,\\n        'df_with_metrics': df(df + precision, dev_forward, dev_comment, dev_like)}\\n\""
      ]
     },
     "execution_count": 5,
     "metadata": {},
     "output_type": "execute_result"
    }
   ],
   "source": [
    "\"\"\"\n",
    "input: df(uid, mid, forward_count, comment_count, like_count, pred_forward_count, pred_comment_count, pred_like_count)\n",
    "output: {'weighted_precision_score': float,\n",
    "        'mean_precision': float,\n",
    "        'df_with_metrics': df(df + precision, dev_forward, dev_comment, dev_like)}\n",
    "\"\"\"\n"
   ]
  },
  {
   "cell_type": "code",
   "execution_count": 31,
   "id": "fc9af95c",
   "metadata": {},
   "outputs": [],
   "source": [
    "rst_path = './save/predictions_20250508_221653.csv'\n",
    "df = pd.read_csv(rst_path)\n"
   ]
  },
  {
   "cell_type": "code",
   "execution_count": 32,
   "id": "d46bb9f0",
   "metadata": {},
   "outputs": [
    {
     "name": "stdout",
     "output_type": "stream",
     "text": [
      "0.3694254454730708 0.9168242881648407\n"
     ]
    }
   ],
   "source": [
    "message = evaluate_model(df)\n",
    "print(message['weighted_precision_score'], message['mean_precision'])\n",
    "message['df_with_metrics'].to_csv('./save/predictions_20250508_221653_lgb_eval.csv')"
   ]
  }
 ],
 "metadata": {
  "kernelspec": {
   "display_name": "SAM",
   "language": "python",
   "name": "python3"
  },
  "language_info": {
   "codemirror_mode": {
    "name": "ipython",
    "version": 3
   },
   "file_extension": ".py",
   "mimetype": "text/x-python",
   "name": "python",
   "nbconvert_exporter": "python",
   "pygments_lexer": "ipython3",
   "version": "3.9.19"
  }
 },
 "nbformat": 4,
 "nbformat_minor": 5
}
